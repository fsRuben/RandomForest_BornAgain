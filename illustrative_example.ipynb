{
 "cells": [
  {
   "cell_type": "markdown",
   "metadata": {},
   "source": [
    "<br/><br/><br/><br/><br/>\n",
    "<div style=\"text-align:center\"><span style=\"font-weight: bold; font-size:2.5em; line-height: 1.5em;\"> Born-again Tree Ensembles</span></div>\n",
    "<br/><br/>\n",
    "\n",
    "This Jupyter notebook contains a working example for the whole tool chain used in the paper Born-again tree ensembles, presented at the 37<sup>th</sup> International Conference of Machine Learning (ICML 2020).\n",
    "\n",
    "To avoid compiler and package conflicts, we recommend to consult the instructions of the README file before running this notebook.\n",
    "\n",
    "The notebook illustrates the following steps:\n",
    "\n",
    "1. Parameter specification\n",
    "2. Data input\n",
    "3. Import of the Random Forest\n",
    "4. Dynamic programming algorithm compilation (C++ code)\n",
    "5. Dynamic programming algorithm execution\n",
    "6. Display of the original Random Forest\n",
    "7. Display of the pruned optimal Born-Again Tree\n",
    "8. Classification performance evaluation"
   ]
  },
  {
   "cell_type": "code",
   "execution_count": null,
   "metadata": {},
   "outputs": [],
   "source": [
    "import os\n",
    "import sys\n",
    "import subprocess\n",
    "import pandas as pd\n",
    "import numpy as np\n",
    "import matplotlib.pyplot as plt\n",
    "from IPython.display import Image\n",
    "from IPython.display import display\n",
    "from sklearn.metrics import classification_report\n",
    "source_path = os.path.abspath('../src')\n",
    "output_path = os.path.abspath('../output')\n",
    "sys.path.append(source_path)\n",
    "import datasets as ds\n",
    "import random_forests as rf\n",
    "import persistence as tree_io\n",
    "import visualization as tree_view"
   ]
  },
  {
   "cell_type": "markdown",
   "metadata": {},
   "source": [
    "## 1. Parameter specification"
   ]
  },
  {
   "cell_type": "code",
   "execution_count": null,
   "metadata": {},
   "outputs": [],
   "source": [
    "selected_n_obj = rf.create_objective_selection()\n",
    "selected_n_tree = rf.create_n_trees_selection()\n",
    "selected_kfold = ds.create_kfold_selection()\n",
    "selected_datasets = ds.create_dataset_selection() \n",
    "selected_cplex = ds.create_cplex_linking_selection()"
   ]
  },
  {
   "cell_type": "markdown",
   "metadata": {},
   "source": [
    "## 2. Data input"
   ]
  },
  {
   "cell_type": "code",
   "execution_count": null,
   "metadata": {},
   "outputs": [],
   "source": [
    "# Loading Parameters...\n",
    "current_obj = selected_n_obj.value\n",
    "current_dataset=ds.dataset_names[selected_datasets.index]\n",
    "current_fold = selected_kfold.value\n",
    "n_trees = selected_n_tree.value\n",
    "using_cplex = selected_cplex.value\n",
    "\n",
    "max_tree_depth = 3\n",
    "print('Selected parameters:\\n')\n",
    "print('  Fold:', current_fold)\n",
    "print('  Objective:', selected_n_obj.label)\n",
    "print('  No. of trees:', n_trees)\n",
    "print('  Dataset:', current_dataset)\n",
    "print('  Using CPLEX:', using_cplex)\n",
    "\n",
    "# Loading data \n",
    "df_train, df_test, ds_infos = ds.load(current_dataset, current_fold)\n",
    "X_train, y_train = df_train.iloc[:,:-1].values, df_train.iloc[:,-1].values\n",
    "X_test, y_test = df_test.iloc[:,:-1].values, df_test.iloc[:,-1].values"
   ]
  },
  {
   "cell_type": "markdown",
   "metadata": {},
   "source": [
    "## 3. Import of the Random Forest"
   ]
  },
  {
   "cell_type": "code",
   "execution_count": null,
   "metadata": {},
   "outputs": [],
   "source": [
    "random_forest, random_forest_file = rf.load(X_train, y_train, current_dataset,\n",
    "                                            current_fold, n_trees, return_file=True)\n",
    "rf_trees = [e.tree_ for e in random_forest.estimators_]"
   ]
  },
  {
   "cell_type": "markdown",
   "metadata": {},
   "source": [
    "## 4. Dynamic programming algorithm compilation (C++ code)"
   ]
  },
  {
   "cell_type": "code",
   "execution_count": null,
   "metadata": {},
   "outputs": [],
   "source": [
    "if 0 == os.system('make --directory=../src/born_again_dp {} > buildlog.txt'.format('withCPLEX=1' if using_cplex else '')):\n",
    "    print('Dynamic Program was successful built.')\n",
    "else:\n",
    "    print('Error while compiling the program with the make commend. Please verify that a suitable compiler is available.')\n",
    "    os.system('make --directory=../src/born_again_dp')"
   ]
  },
  {
   "cell_type": "markdown",
   "metadata": {},
   "source": [
    "## 5. Dynamic programming algorithm execution"
   ]
  },
  {
   "cell_type": "code",
   "execution_count": null,
   "metadata": {},
   "outputs": [],
   "source": [
    "# Calling executable to compute Born-Again Tree\n",
    "born_again_file = \"{}.BA{}\".format(current_dataset, current_fold)\n",
    "ret = subprocess.run(['../src/born_again_dp/bornAgain',\n",
    "                random_forest_file,\n",
    "                born_again_file,\n",
    "                '-trees', str(n_trees),\n",
    "                '-obj', str(current_obj)], stdout=subprocess.PIPE)\n",
    "\n",
    "print(\"Executed command: \\\"{}\\\"\\n\".format(' '.join(ret.args)))\n",
    "print(ret.stdout.decode('utf-8'))\n",
    "if ret.returncode != 0:\n",
    "    print(ret.stderr.decode('utf-8'))\n",
    "print('Program exited with code {}.'.format(ret.returncode))\n",
    "\n",
    "# Visualizing...\n",
    "born_again = tree_io.classifier_from_file(born_again_file+\".tree\", X_train, y_train, pruning=False)\n",
    "born_again_pruned = tree_io.classifier_from_file(born_again_file+\".tree\", X_train, y_train, pruning=True)"
   ]
  },
  {
   "cell_type": "markdown",
   "metadata": {},
   "source": [
    "## 6. Display of the original Random Forest"
   ]
  },
  {
   "cell_type": "code",
   "execution_count": null,
   "metadata": {},
   "outputs": [],
   "source": [
    "display(Image(tree_view.create_graph(rf_trees, features=ds_infos['features'], classes=ds_infos['classes'], colors=ds_infos['colors']).create_png()))"
   ]
  },
  {
   "cell_type": "markdown",
   "metadata": {},
   "source": [
    "## 7. Display of the pruned optimal Born-Again Tree"
   ]
  },
  {
   "cell_type": "code",
   "execution_count": null,
   "metadata": {},
   "outputs": [],
   "source": [
    "display(Image(tree_view.create_graph([born_again_pruned.tree_], features=ds_infos['features'], classes=ds_infos['classes'], colors=ds_infos['colors']).create_png()))"
   ]
  },
  {
   "cell_type": "markdown",
   "metadata": {},
   "source": [
    "## 8. Classification performance evaluation"
   ]
  },
  {
   "cell_type": "code",
   "execution_count": null,
   "metadata": {},
   "outputs": [],
   "source": [
    "#RandomForest\n",
    "rf_test_pred = random_forest.predict(X_test)\n",
    "rf_train_pred = random_forest.predict(X_train)\n",
    "report_rf = classification_report(y_test, rf_test_pred, output_dict=True)\n",
    "report_rf_train = classification_report(y_train, rf_train_pred, output_dict=True)\n",
    "\n",
    "#BornAgain\n",
    "ba_test_pred = born_again.predict(X_test)\n",
    "ba_train_pred = born_again.predict(X_train)\n",
    "report_ba = classification_report(y_test, ba_test_pred, output_dict=True)\n",
    "report_ba_train = classification_report(y_train, ba_train_pred, output_dict=True)\n",
    "\n",
    "#BornAgain-Pruned\n",
    "ba_pruned_test_pred = born_again_pruned.predict(X_test)\n",
    "ba_pruned_train_pred =  born_again_pruned.predict(X_train)\n",
    "report_ba_pruned = classification_report(y_test, ba_pruned_test_pred, output_dict=True)\n",
    "report_ba_pruned_train = classification_report(y_train, ba_pruned_train_pred, output_dict=True)\n",
    "\n",
    "df = {' ': [], 'Train-Acc': [], 'Train-F1': [], 'Test-Acc': [], 'Test-F1': []}\n",
    "def add_report(df, method, train_stat, test_stat):\n",
    "    df[' '].append(method)\n",
    "    df['Train-Acc'].append(train_stat['accuracy'])\n",
    "    df['Train-F1'].append(train_stat['weighted avg']['f1-score'])\n",
    "    df['Test-Acc'].append(test_stat['accuracy'])\n",
    "    df['Test-F1'].append(test_stat['weighted avg']['f1-score'])\n",
    "\n",
    "add_report(df, 'RandomForest', report_rf_train, report_rf)\n",
    "add_report(df, 'BornAgain', report_ba_train, report_ba)\n",
    "add_report(df, 'BornAgain-Pruned', report_ba_pruned_train, report_ba_pruned)\n",
    "\n",
    "pd.DataFrame(data=df, index=None)"
   ]
  },
  {
   "cell_type": "code",
   "execution_count": null,
   "metadata": {},
   "outputs": [],
   "source": []
  }
 ],
 "metadata": {
  "kernelspec": {
   "display_name": "Python 3",
   "language": "python",
   "name": "python3"
  },
  "language_info": {
   "codemirror_mode": {
    "name": "ipython",
    "version": 3
   },
   "file_extension": ".py",
   "mimetype": "text/x-python",
   "name": "python",
   "nbconvert_exporter": "python",
   "pygments_lexer": "ipython3",
   "version": "3.7.7"
  }
 },
 "nbformat": 4,
 "nbformat_minor": 2
}
